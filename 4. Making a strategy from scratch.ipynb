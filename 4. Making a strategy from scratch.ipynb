{
 "cells": [
  {
   "cell_type": "code",
   "execution_count": 25,
   "id": "initial_id",
   "metadata": {
    "collapsed": true,
    "ExecuteTime": {
     "end_time": "2024-05-15T19:33:10.263882Z",
     "start_time": "2024-05-15T19:33:10.254873Z"
    }
   },
   "outputs": [],
   "source": [
    "import dxlib as dx\n",
    "import pandas as pd\n",
    "from dxlib.interfaces.external.yfinance import YFinanceAPI"
   ]
  },
  {
   "cell_type": "code",
   "outputs": [],
   "source": [
    "tickers = [\"AAPL\", \"MSFT\", \"GOOGL\"]\n",
    "security_manager = dx.SecurityManager.from_list(tickers)"
   ],
   "metadata": {
    "collapsed": false,
    "ExecuteTime": {
     "end_time": "2024-05-15T19:29:27.959865Z",
     "start_time": "2024-05-15T19:29:27.951996Z"
    }
   },
   "id": "6d18acdf44674a0f",
   "execution_count": 11
  },
  {
   "cell_type": "code",
   "outputs": [],
   "source": [
    "schema = dx.Schema(\n",
    "    fields=[\"open\", \"high\", \"low\", \"close\", \"volume\", \"adj_close\"],\n",
    "    levels=[dx.SchemaLevel.DATE, dx.SchemaLevel.SECURITY],\n",
    "    security_manager=security_manager\n",
    ")\n",
    "my_history = dx.History(schema=schema)"
   ],
   "metadata": {
    "collapsed": false,
    "ExecuteTime": {
     "end_time": "2024-05-15T19:32:41.166340Z",
     "start_time": "2024-05-15T19:32:41.157754Z"
    }
   },
   "id": "30752e0abb775149",
   "execution_count": 22
  },
  {
   "cell_type": "code",
   "outputs": [],
   "source": [
    "start = dx.Date.prevdays(365)\n",
    "end = dx.Date.today()\n",
    "api = YFinanceAPI()\n",
    "data = api.historical(tickers, start, end)"
   ],
   "metadata": {
    "collapsed": false,
    "ExecuteTime": {
     "end_time": "2024-05-15T19:33:51.914726Z",
     "start_time": "2024-05-15T19:33:50.400843Z"
    }
   },
   "id": "bd0dcd090a5be3bc",
   "execution_count": 29
  },
  {
   "cell_type": "code",
   "outputs": [],
   "source": [
    "class MyStrategy(dx.Strategy):\n",
    "    def execute(\n",
    "            self, observation: any, history: dx.History, position: dx.Inventory\n",
    "    ) -> pd.Series:\n",
    "        # No nosso caso, da todos os valores de datas unicas e acoes unicas\n",
    "        levels = history.levels_unique()  \n",
    "        # Le todos valores unicos no nivel\n",
    "\n",
    "        idx, _ = observation\n",
    "\n",
    "        signals = pd.Series(\n",
    "            dx.Signal(dx.Side.WAIT), index=pd.MultiIndex.from_tuples([idx], names=levels.keys())\n",
    "        )\n",
    "        \n",
    "        security_level = history.schema.levels.index(dx.SchemaLevel.SECURITY)\n",
    "        security = idx[security_level]\n",
    "        \n",
    "        if security.ticker == \"AAPL\":\n",
    "            signals.loc[idx] = dx.Signal(dx.Side.BUY, 1)\n",
    "        elif security.ticker == \"MSFT\":\n",
    "            signals.loc[idx] = dx.Signal(dx.Side.SELL, 1)\n",
    "        elif security.ticker == \"GOOGL\":\n",
    "            signals.loc[idx] = dx.Signal(dx.Side.WAIT, 1)\n",
    "\n",
    "        return signals"
   ],
   "metadata": {
    "collapsed": false,
    "ExecuteTime": {
     "end_time": "2024-05-15T19:58:58.316345Z",
     "start_time": "2024-05-15T19:58:58.308772Z"
    }
   },
   "id": "79e72e6c4c290b4c",
   "execution_count": 83
  },
  {
   "cell_type": "code",
   "outputs": [],
   "source": [
    "rsi_strategy = dx.strategies.RsiStrategy()"
   ],
   "metadata": {
    "collapsed": false,
    "ExecuteTime": {
     "end_time": "2024-05-15T19:58:58.969952Z",
     "start_time": "2024-05-15T19:58:58.964811Z"
    }
   },
   "id": "99994b3e5b64de69",
   "execution_count": 84
  },
  {
   "cell_type": "code",
   "outputs": [],
   "source": [
    "strategy = MyStrategy()\n",
    "executor = dx.Executor(strategy)"
   ],
   "metadata": {
    "collapsed": false,
    "ExecuteTime": {
     "end_time": "2024-05-15T19:58:59.968417Z",
     "start_time": "2024-05-15T19:58:59.960938Z"
    }
   },
   "id": "79d065c103ae950e",
   "execution_count": 85
  },
  {
   "cell_type": "code",
   "outputs": [],
   "source": [
    "signals: dx.History = executor.run(data)"
   ],
   "metadata": {
    "collapsed": false,
    "ExecuteTime": {
     "end_time": "2024-05-15T19:59:08.569461Z",
     "start_time": "2024-05-15T19:59:00.537207Z"
    }
   },
   "id": "e97a272f3e2962ad",
   "execution_count": 86
  },
  {
   "cell_type": "code",
   "outputs": [
    {
     "data": {
      "text/plain": "                                            signal\ndate                security                      \n2023-05-16 10:30:00 AAPL (equity)    BUY: 1 @ None\n2023-05-17 10:30:00 AAPL (equity)    BUY: 1 @ None\n2023-05-18 10:30:00 AAPL (equity)    BUY: 1 @ None\n2023-05-19 10:30:00 AAPL (equity)    BUY: 1 @ None\n2023-05-22 10:30:00 AAPL (equity)    BUY: 1 @ None\n...                                            ...\n2024-05-09 10:30:00 GOOGL (equity)  WAIT: 1 @ None\n2024-05-10 10:30:00 GOOGL (equity)  WAIT: 1 @ None\n2024-05-13 10:30:00 GOOGL (equity)  WAIT: 1 @ None\n2024-05-14 10:30:00 GOOGL (equity)  WAIT: 1 @ None\n2024-05-15 16:33:49 GOOGL (equity)  WAIT: 1 @ None\n\n[756 rows x 1 columns]"
     },
     "execution_count": 87,
     "metadata": {},
     "output_type": "execute_result"
    }
   ],
   "source": [
    "signals"
   ],
   "metadata": {
    "collapsed": false,
    "ExecuteTime": {
     "end_time": "2024-05-15T19:59:08.580680Z",
     "start_time": "2024-05-15T19:59:08.571322Z"
    }
   },
   "id": "805d314105541c0c",
   "execution_count": 87
  },
  {
   "cell_type": "code",
   "outputs": [
    {
     "data": {
      "text/plain": "                                           signal\ndate                security                     \n2023-05-16 10:30:00 MSFT (equity)  SELL: 1 @ None\n2023-05-17 10:30:00 MSFT (equity)  SELL: 1 @ None\n2023-05-18 10:30:00 MSFT (equity)  SELL: 1 @ None\n2023-05-19 10:30:00 MSFT (equity)  SELL: 1 @ None\n2023-05-22 10:30:00 MSFT (equity)  SELL: 1 @ None\n...                                           ...\n2024-05-09 10:30:00 MSFT (equity)  SELL: 1 @ None\n2024-05-10 10:30:00 MSFT (equity)  SELL: 1 @ None\n2024-05-13 10:30:00 MSFT (equity)  SELL: 1 @ None\n2024-05-14 10:30:00 MSFT (equity)  SELL: 1 @ None\n2024-05-15 16:33:47 MSFT (equity)  SELL: 1 @ None\n\n[252 rows x 1 columns]"
     },
     "execution_count": 88,
     "metadata": {},
     "output_type": "execute_result"
    }
   ],
   "source": [
    "aapl = data.schema.security_manager.get(\"MSFT\")\n",
    "signals.get(levels={dx.SchemaLevel.SECURITY: [aapl]})"
   ],
   "metadata": {
    "collapsed": false,
    "ExecuteTime": {
     "end_time": "2024-05-15T19:59:08.597708Z",
     "start_time": "2024-05-15T19:59:08.582341Z"
    }
   },
   "id": "641c942969108f5e",
   "execution_count": 88
  },
  {
   "cell_type": "code",
   "outputs": [],
   "source": [],
   "metadata": {
    "collapsed": false
   },
   "id": "ed2c7479b0433905"
  }
 ],
 "metadata": {
  "kernelspec": {
   "display_name": "Python 3",
   "language": "python",
   "name": "python3"
  },
  "language_info": {
   "codemirror_mode": {
    "name": "ipython",
    "version": 2
   },
   "file_extension": ".py",
   "mimetype": "text/x-python",
   "name": "python",
   "nbconvert_exporter": "python",
   "pygments_lexer": "ipython2",
   "version": "2.7.6"
  }
 },
 "nbformat": 4,
 "nbformat_minor": 5
}
