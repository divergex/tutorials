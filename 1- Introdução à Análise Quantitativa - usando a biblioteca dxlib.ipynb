{
 "cells": [
  {
   "cell_type": "code",
   "execution_count": null,
   "id": "342ad87c-f3ca-430a-8441-fa5ccc0f2af3",
   "metadata": {},
   "outputs": [],
   "source": [
    "%pip install dxlib"
   ]
  },
  {
   "cell_type": "markdown",
   "id": "8c4f153d-98fe-4d9f-ab9a-d17a14219592",
   "metadata": {},
   "source": [
    "# Introdução à Análise Quantitativa - usando a biblioteca dxlib\n",
    "\n",
    "Neste tutorial, vamos explorar o básico da biblioteca dxlib para análise quantitativa financeira. A biblioteca dxlib é uma ferramenta poderosa para manipulação de dados financeiros, análise de portfólio e execução de estratégias de trading."
   ]
  },
  {
   "cell_type": "markdown",
   "id": "a3f4c002-4a6d-4c71-9573-37f6ea57e796",
   "metadata": {},
   "source": [
    "### 1. Importação da Biblioteca\n",
    "\n",
    "Começamos importando a biblioteca dxlib e o módulo `random` para gerar valores aleatórios."
   ]
  },
  {
   "cell_type": "code",
   "execution_count": 3,
   "id": "2821c0ca-082f-4f18-848b-a55cde5d6f20",
   "metadata": {},
   "outputs": [],
   "source": [
    "import dxlib as dx\n",
    "import random"
   ]
  },
  {
   "cell_type": "markdown",
   "id": "dfb541dc-7dfe-4a73-bea3-22a2291667c3",
   "metadata": {},
   "source": [
    "### 2. Definição de Securities\n",
    "\n",
    "Instrumentos financeiros (em inglês, \"securities\") são os formatos diferentes de objetos que podem ser negociados no mercado financeiro, o principal tipo de instrumento que vamos lidar são as ações (em inglês, \"equity\")\n",
    "\n",
    "Definimos uma lista de simbolos dos ativos financeiros (securities) que queremos analisar. Em seguida, utilizamos o `SecurityManager` para criar e mapear os securities."
   ]
  },
  {
   "cell_type": "code",
   "execution_count": 11,
   "id": "9854d215-ed67-4ac2-8125-944bbf071c3e",
   "metadata": {},
   "outputs": [
    {
     "name": "stdout",
     "output_type": "stream",
     "text": [
      "[Security(AAPL, <SecurityType.equity: 'equity'>), Security(MSFT, <SecurityType.equity: 'equity'>), Security(TSLA, <SecurityType.equity: 'equity'>)]\n"
     ]
    }
   ],
   "source": [
    "tickers = [\"AAPL\", \"MSFT\", \"TSLA\"]\n",
    "security_manager = dx.SecurityManager.from_list(tickers)\n",
    "securities = list(security_manager.values())\n",
    "\n",
    "print(securities)"
   ]
  },
  {
   "cell_type": "markdown",
   "id": "d7f7b8c5-523e-4df5-8a9f-8a377be5edd8",
   "metadata": {},
   "source": [
    "### 3. Criação do Inventário\n",
    "\n",
    "Outro elemento importante da biblioteca é o inventário. Neste exemplo, o inventário será utilizado para armazenar quantidades dos ativos financeiros que escolhemos para negociar\n",
    "\n",
    "Basta passar os diferentes instrumentos financeiros e suas quantidades respectivas para o inventário para inicializá-lo:"
   ]
  },
  {
   "cell_type": "code",
   "execution_count": 14,
   "id": "dcb2af14-dcc6-45df-ad0e-61153aaffb73",
   "metadata": {},
   "outputs": [
    {
     "name": "stdout",
     "output_type": "stream",
     "text": [
      "Inventory({'AAPL (equity)': 3, 'MSFT (equity)': 8, 'TSLA (equity)': 4})\n"
     ]
    }
   ],
   "source": [
    "quantities = {security: random.randint(1, 10) for security in securities}\n",
    "\n",
    "inventory = dx.Inventory(quantities)\n",
    "print(inventory)"
   ]
  },
  {
   "cell_type": "markdown",
   "id": "fc1245a1-d72f-4bc5-ab4e-d51fbe3f2f9d",
   "metadata": {},
   "source": [
    "### 4. Geração de sinais\n",
    "\n",
    "Para gerar sinais de compra e venda, vamos utilizar alguns dados fictícios, assim como direções (de compra ou venda) aleatórios"
   ]
  },
  {
   "cell_type": "code",
   "execution_count": 17,
   "id": "6b910038-9fc8-47ed-be9f-f1917f27f653",
   "metadata": {},
   "outputs": [
    {
     "name": "stdout",
     "output_type": "stream",
     "text": [
      "AAPL (equity): BUY: 4 @ 892.167102175923\n",
      "MSFT (equity): SELL: 4 @ 784.8638549391205\n",
      "TSLA (equity): BUY: 6 @ 379.15034616814904 \n"
     ]
    }
   ],
   "source": [
    "possible_sides = [dx.Side.BUY, dx.Side.SELL]\n",
    "\n",
    "signals = {\n",
    "    security: dx.Signal(\n",
    "        side=random.choice(possible_sides),\n",
    "        quantity=random.randint(1, 10),\n",
    "        price=random.random() * 1000,\n",
    "    )\n",
    "    for security in securities\n",
    "}\n",
    "\n",
    "print(\"\\n\".join([f\"{k}: {v}\" for k, v in signals.items()]), \"\\n\")"
   ]
  },
  {
   "cell_type": "markdown",
   "id": "867d5188-d0d0-44a6-ab33-fec294922bda",
   "metadata": {},
   "source": [
    "### 5. Dados reais\n",
    "\n",
    "Agora que estamos um pouco mais familiarizados com os principais elementos da biblioteca, vamos utilizar a API de dados reais para obter os preços em tempo real dos nossos ativos. \n",
    "\n",
    "Para tal, basta definir a api e utilizar o método `quote`"
   ]
  },
  {
   "cell_type": "code",
   "execution_count": 19,
   "id": "8d874567-7701-4835-a6b7-2435635efef0",
   "metadata": {},
   "outputs": [
    {
     "name": "stdout",
     "output_type": "stream",
     "text": [
      "                                    price\n",
      "date                security             \n",
      "2024-03-06 18:00:00 TSLA (equity)  176.54\n",
      "2024-03-06 18:00:01 AAPL (equity)  169.12\n",
      "                    MSFT (equity)  402.09\n"
     ]
    }
   ],
   "source": [
    "api = dx.interfaces.YFinanceAPI()\n",
    "quote = api.quote(tickers)\n",
    "print(quote)"
   ]
  },
  {
   "cell_type": "markdown",
   "id": "888f09fb-8255-4913-ba37-1f9ac38bf1f3",
   "metadata": {},
   "source": [
    "Agora, podemos realizar uma modelagem em cima dos preços e outros atributos reais obtidos pela API, contudo teremos que utilizar uma outra classe importante da biblioteca para operar em cima dos valores: `dx.History`. Como é uma classe complexa, deixaremos para outro Notebook.\n",
    "\n",
    "Este tutorial cobriu aspectos básicos da biblioteca dxlib, incluindo a definição de securities, criação de inventário, geração de sinais e obtenção de cotações. Explore os outros tutoriais e funcionalidades da biblioteca para aprofundar seu conhecimento."
   ]
  }
 ],
 "metadata": {
  "kernelspec": {
   "display_name": "Python 3 (ipykernel)",
   "language": "python",
   "name": "python3"
  },
  "language_info": {
   "codemirror_mode": {
    "name": "ipython",
    "version": 3
   },
   "file_extension": ".py",
   "mimetype": "text/x-python",
   "name": "python",
   "nbconvert_exporter": "python",
   "pygments_lexer": "ipython3",
   "version": "3.10.13"
  }
 },
 "nbformat": 4,
 "nbformat_minor": 5
}
